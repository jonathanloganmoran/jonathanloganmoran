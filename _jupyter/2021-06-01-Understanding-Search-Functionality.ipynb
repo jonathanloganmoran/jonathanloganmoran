{
 "cells": [
  {
   "cell_type": "markdown",
   "metadata": {},
   "source": [
    "# Understanding Search Functionality\n",
    "In this Part 2 of three case studies investigating Yammer–a social network for the workplace, we will be helping the product team determine priorities for their next development cycle. They are considering improving the site's search functionality, but first need our help deciding whether or not to work on the project in the first place. Thus, it's our job to consider the impact that search has on users, and see if there's any specific improvements that can be made. We'll be making recommendations to the development team, so it's best that we form quantitative hypotheses that seek to understand the general quality of an inidividual user's search experience.\n",
    "\n",
    "_Let's get started..._"
   ]
  },
  {
   "cell_type": "markdown",
   "metadata": {},
   "source": [
    "## Programming\n",
    "In this study, we will be using a few common technologies:\n",
    "*   SQL (SQLite) for data manipulation/exploration\n",
    "*   Python (pandas) for data frames\n",
    "*   Plotly/Jupyter notebook for interactive charts/data visualization"
   ]
  },
  {
   "cell_type": "code",
   "execution_count": null,
   "metadata": {},
   "outputs": [],
   "source": [
    "!pip install pandasql"
   ]
  },
  {
   "cell_type": "code",
   "execution_count": null,
   "metadata": {},
   "outputs": [],
   "source": [
    "!pip install plotly"
   ]
  },
  {
   "cell_type": "code",
   "execution_count": null,
   "metadata": {},
   "outputs": [],
   "source": [
    "# data tools\n",
    "# querying pandas dataframes\n",
    "import pandas as pd\n",
    "import pandasql\n",
    "from pandasql import sqldf\n",
    "# plotting tools\n",
    "import plotly.graph_objects as go\n",
    "import plotly.express as px\n",
    "#from plotly.offline import init_notebook_mode, iplot\n",
    "# output charts to HMTL\n",
    "import plotly.io as pio"
   ]
  },
  {
   "cell_type": "code",
   "execution_count": null,
   "metadata": {},
   "outputs": [],
   "source": [
    "#init_notebook_mode()"
   ]
  },
  {
   "cell_type": "markdown",
   "metadata": {},
   "source": [
    "## Collecting our datasets\n",
    "There are two tables that are relevant to this problem, `yammer_events` and `yammer_users`.\n",
    "\n",
    "It is going to be cruicial that we look at the following events in our events table:\n",
    "*   `search_autocomplete`: this event is logged when a user clicks on a search option from autocomplete.\n",
    "*   `search_run`: this event is logged when a user runs a search and sees the results page.\n",
    "*   `search_click_X`: this event is logged when a user clicks on a search result `X`, which ranges from `1` to `10`. "
   ]
  },
  {
   "cell_type": "code",
   "execution_count": null,
   "metadata": {},
   "outputs": [],
   "source": [
    "events_path = '../src/yammer_events.csv'"
   ]
  },
  {
   "cell_type": "code",
   "execution_count": null,
   "metadata": {},
   "outputs": [],
   "source": [
    "yammer_events = pd.read_csv(events_path, sep=',', header=0)\n",
    "yammer_events"
   ]
  },
  {
   "cell_type": "markdown",
   "metadata": {},
   "source": [
    "## The problem\n",
    "Here's a re-hash of the above: Yammer's product team is determining priorities for the next development cycle. They're considering improving the site's search functionality. Before they proceed, they want to know whether they should even work on search in the first place, and, if so, how they should modify it.\n",
    "\n",
    "\n",
    "## Making a recommendation\n",
    "In particular, you should seek to answer the following questions:\n",
    "* Are users' search experiences generally good or bad?\n",
    "* Is search worth working on at all?\n",
    "* If search is worth working on, what, specifically, should be improved?"
   ]
  },
  {
   "cell_type": "markdown",
   "metadata": {},
   "source": [
    "## Analysis\n",
    "In order to form our hypotheses (by way of metrics we will investigate), we need to use the above questions to better understand the ultimate purpose of search at Yammer."
   ]
  },
  {
   "cell_type": "markdown",
   "metadata": {},
   "source": [
    "### _1. Search Use_\n",
    "The first thing to understand is whether anyone even uses search at all.\n",
    "### Search Use Over Time"
   ]
  },
  {
   "cell_type": "code",
   "execution_count": null,
   "metadata": {},
   "outputs": [],
   "source": [
    "q = \"\"\"\n",
    "SELECT\n",
    "  week_of,\n",
    "  (with_autocompletes * 1.00 / sessions) * 100 AS perct_autocompletes,\n",
    "  (with_runs * 1.00 / sessions) * 100 AS perct_runs\n",
    "FROM (\n",
    "      SELECT\n",
    "        strftime('%Y-%m-%d', session_start, 'weekday 0', '-6 days') AS week_of,\n",
    "        COUNT(*) sessions,\n",
    "        COUNT(CASE WHEN autocompletes > 0 THEN session ELSE NULL END) AS with_autocompletes,\n",
    "        COUNT(CASE WHEN runs > 0 THEN session ELSE NULL END) AS with_runs\n",
    "      FROM (\n",
    "            SELECT\n",
    "              strftime('%Y-%m-%d %H:%M:%S', session_start) AS session_start,\n",
    "              session,\n",
    "              user_id,\n",
    "              COUNT(CASE WHEN event_name = 'search_autocomplete' THEN user_id ELSE NULL END) AS autocompletes,\n",
    "              COUNT(CASE WHEN event_name = 'search_run' THEN user_id ELSE NULL END) AS runs,\n",
    "              COUNT(CASE WHEN event_name LIKE 'search_click_result_%' THEN user_id ELSE NULL END) AS clicks\n",
    "            FROM (\n",
    "                  SELECT\n",
    "                    e.*,\n",
    "                    sessions.session,\n",
    "                    sessions.session_start\n",
    "                  FROM yammer_events e\n",
    "                  LEFT JOIN (\n",
    "                              SELECT\n",
    "                                user_id,\n",
    "                                session,\n",
    "                                MIN(occurred_at) AS session_start,\n",
    "                                MAX(occurred_at) AS session_end\n",
    "                              FROM (\n",
    "                                    SELECT\n",
    "                                      intervals.*,\n",
    "                                      CASE WHEN prev_event >= 10.0 THEN id\n",
    "                                           WHEN prev_event IS NULL THEN id\n",
    "                                           ELSE LAG(id, 1) OVER (PARTITION BY user_id ORDER BY occurred_at)\n",
    "                                           END AS session\n",
    "                                    FROM (\n",
    "                                          SELECT\n",
    "                                            user_id,\n",
    "                                            occurred_at,\n",
    "                                            event_type,\n",
    "                                            event_name,\n",
    "                                            ROUND((JULIANDAY(occurred_at) - JULIANDAY(LAG(occurred_at, 1) OVER (PARTITION BY user_id ORDER BY occurred_at))) * 1440) AS prev_event,\n",
    "                                            ROUND((JULIANDAY(LEAD(occurred_at, 1) OVER (PARTITION BY user_id ORDER BY occurred_at)) - JULIANDAY(occurred_at)) * 1440) AS next_event,\n",
    "                                            ROW_NUMBER() OVER () AS id\n",
    "                                          FROM yammer_events\n",
    "                                          WHERE event_type = 'engagement'\n",
    "                                          ORDER BY user_id, occurred_at\n",
    "                                    ) intervals\n",
    "                                    WHERE prev_event >= 10.0\n",
    "                                       OR next_event >= 10.0\n",
    "                                       OR prev_event IS NULL\n",
    "                                       OR next_event IS NULL\n",
    "                              ) bounds\n",
    "                              GROUP BY 1, 2\n",
    "                  ) sessions\n",
    "                  ON e.user_id = sessions.user_id\n",
    "                  AND e.occurred_at >= sessions.session_start\n",
    "                  AND e.occurred_at <= sessions.session_end\n",
    "                  WHERE e.event_type = 'engagement'\n",
    "            ) events\n",
    "            GROUP BY 1, 2, 3\n",
    "      ) counts\n",
    "      GROUP BY 1\n",
    "      ORDER BY 1\n",
    ") counts\n",
    "GROUP BY 1\n",
    "ORDER BY 1\n",
    "\"\"\""
   ]
  },
  {
   "cell_type": "code",
   "execution_count": null,
   "metadata": {},
   "outputs": [],
   "source": [
    "searches = pandasql.sqldf(q, globals())"
   ]
  },
  {
   "cell_type": "code",
   "execution_count": null,
   "metadata": {},
   "outputs": [],
   "source": [
    "week_of = searches['week_of']\n",
    "perct_autocompletes = searches['perct_autocompletes']\n",
    "perct_runs = searches['perct_runs']"
   ]
  },
  {
   "cell_type": "code",
   "execution_count": null,
   "metadata": {},
   "outputs": [],
   "source": [
    "fig1 = go.Figure()\n",
    "fig1.add_trace(go.Scatter(x=week_of, y=perct_autocompletes, mode='lines', name='searches with autocompletes'))\n",
    "fig1.add_trace(go.Scatter(x=week_of, y=perct_runs, mode='lines', name='searches with runs'))\n",
    "fig1.update_layout(title='Search Rate by Week', xaxis_title='Week of', yaxis_title='Percent of sessions')\n",
    "pio.write_html(fig1, file='2021-06-01-Understanding-Search-Functionality-fig1.html', auto_open=True)"
   ]
  },
  {
   "cell_type": "markdown",
   "metadata": {},
   "source": [
    "### Search Use Per Session"
   ]
  },
  {
   "cell_type": "code",
   "execution_count": null,
   "metadata": {},
   "outputs": [],
   "source": [
    "q = \"\"\"\n",
    "SELECT\n",
    "  autocompletes,\n",
    "  COUNT(*) AS sessions\n",
    "FROM (\n",
    "      SELECT\n",
    "        strftime('%Y-%m-%d %H:%M:%S', session_start) AS session_start,\n",
    "        session,\n",
    "        user_id,\n",
    "        COUNT(CASE WHEN event_name = 'search_autocomplete' THEN user_id ELSE NULL END) AS autocompletes,\n",
    "        COUNT(CASE WHEN event_name = 'search_run' THEN user_id ELSE NULL END) AS runs,\n",
    "        COUNT(CASE WHEN event_name LIKE 'search_click_result_%' THEN user_id ELSE NULL END) AS clicks\n",
    "      FROM (\n",
    "            SELECT\n",
    "              e.*,\n",
    "              session,\n",
    "              session_start\n",
    "            FROM yammer_events e\n",
    "            LEFT JOIN (\n",
    "                        SELECT\n",
    "                          user_id,\n",
    "                          session,\n",
    "                          MIN(occurred_at) AS session_start,\n",
    "                          MAX(occurred_at) AS session_end\n",
    "                        FROM (\n",
    "                              SELECT\n",
    "                                intervals.*,\n",
    "                                CASE WHEN prev_event >= 10.0 THEN id\n",
    "                                     WHEN prev_event IS NULL THEN id\n",
    "                                     ELSE LAG(id, 1) OVER (PARTITION BY user_id ORDER BY occurred_at)\n",
    "                                     END AS session\n",
    "                              FROM (\n",
    "                                    SELECT\n",
    "                                      user_id,\n",
    "                                      occurred_at,\n",
    "                                      event_type,\n",
    "                                      event_name,\n",
    "                                      ROUND((JULIANDAY(occurred_at) - JULIANDAY(LAG(occurred_at, 1) OVER (PARTITION BY user_id ORDER BY occurred_at))) * 1440) AS prev_event,\n",
    "                                      ROUND((JULIANDAY(LEAD(occurred_at, 1) OVER (PARTITION BY user_id ORDER BY occurred_at)) - JULIANDAY(occurred_at)) * 1440) AS next_event,\n",
    "                                      ROW_NUMBER() OVER () AS id\n",
    "                                    FROM yammer_events\n",
    "                                    WHERE event_type = 'engagement'\n",
    "                              ) intervals\n",
    "                              WHERE prev_event >= 10.0\n",
    "                                 OR next_event >= 10.0\n",
    "                                 OR prev_event IS NULL\n",
    "                                 OR next_event IS NULL\n",
    "                        ) bounds\n",
    "                        GROUP BY 1, 2\n",
    "            ) sessions\n",
    "            ON e.user_id = sessions.user_id\n",
    "            AND e.occurred_at >= sessions.session_start\n",
    "            AND e.occurred_at <= sessions.session_end\n",
    "            WHERE e.event_type = 'engagement'\n",
    "      ) events\n",
    "      GROUP BY 1, 2, 3\n",
    ") counts\n",
    "WHERE autocompletes > 0\n",
    "GROUP BY 1\n",
    "ORDER BY 1\n",
    "\"\"\""
   ]
  },
  {
   "cell_type": "code",
   "execution_count": null,
   "metadata": {},
   "outputs": [],
   "source": [
    "autocompletes = pandasql.sqldf(q, globals())"
   ]
  },
  {
   "cell_type": "code",
   "execution_count": null,
   "metadata": {},
   "outputs": [],
   "source": [
    "num_autocompletes = autocompletes['autocompletes']\n",
    "num_sessions = autocompletes['sessions']"
   ]
  },
  {
   "cell_type": "code",
   "execution_count": null,
   "metadata": {},
   "outputs": [],
   "source": [
    "fig2 = go.Figure()\n",
    "fig2.add_trace(go.Bar(x=num_autocompletes, y=num_sessions, text=num_sessions, textposition='auto', name='sessions with autocomplete'))\n",
    "fig2.update_yaxes(nticks=6)\n",
    "fig2.update_layout(title='Number of Sessions with Autocompletes', xaxis_title='Autocompletes per session', yaxis_title='Number of sessions')\n",
    "pio.write_html(fig2, file='2021-06-01-Understanding-Search-Functionality-fig2.html', auto_open=True)"
   ]
  },
  {
   "cell_type": "markdown",
   "metadata": {},
   "source": [
    "Conclusions:\n",
    "*   "
   ]
  },
  {
   "cell_type": "markdown",
   "metadata": {},
   "source": [
    "### _2. Search Frequency_\n",
    "If users search a lot, it's likely that they're getting value out of the feature– with a major exception. If users search repeatedly within a short timeframe, it's likely that they're refining their terms because they were unable to find what they initially wanted.\n",
    "\n",
    "### Search Runs Per Session"
   ]
  },
  {
   "cell_type": "code",
   "execution_count": null,
   "metadata": {},
   "outputs": [],
   "source": [
    "q = \"\"\"\n",
    "SELECT\n",
    "  runs,\n",
    "  COUNT(*) AS sessions\n",
    "FROM (\n",
    "      SELECT\n",
    "        strftime('%Y-%m-%d %H:%M:%S', session_start) AS session_start,\n",
    "        session,\n",
    "        user_id,\n",
    "        COUNT(CASE WHEN event_name = 'search_autocomplete' THEN user_id ELSE NULL END) AS autocompletes,\n",
    "        COUNT(CASE WHEN event_name = 'search_run' THEN user_id ELSE NULL END) AS runs,\n",
    "        COUNT(CASE WHEN event_name LIKE 'search_click_result_%' THEN user_id ELSE NULL END) AS clicks\n",
    "      FROM (\n",
    "            SELECT\n",
    "              e.*,\n",
    "              session,\n",
    "              session_start\n",
    "            FROM yammer_events e\n",
    "            LEFT JOIN (\n",
    "                        SELECT\n",
    "                          user_id,\n",
    "                          session,\n",
    "                          MIN(occurred_at) AS session_start,\n",
    "                          MAX(occurred_at) AS session_end\n",
    "                        FROM (\n",
    "                              SELECT\n",
    "                                intervals.*,\n",
    "                                CASE WHEN prev_event >= 10.0 THEN id\n",
    "                                     WHEN prev_event IS NULL THEN id\n",
    "                                     ELSE LAG(id, 1) OVER (PARTITION BY user_id ORDER BY occurred_at)\n",
    "                                     END AS session\n",
    "                              FROM (\n",
    "                                    SELECT\n",
    "                                      user_id,\n",
    "                                      strftime('%Y-%m-%d %H:%M:%S', occurred_at) AS occurred_at,\n",
    "                                      event_type,\n",
    "                                      event_name,\n",
    "                                      ROUND((JULIANDAY(occurred_at) - JULIANDAY(LAG(occurred_at, 1) OVER (PARTITION BY user_id ORDER BY occurred_at))) * 1440) AS prev_event,\n",
    "                                      ROUND((JULIANDAY(LEAD(occurred_at, 1) OVER (PARTITION BY user_id ORDER BY occurred_at)) - JULIANDAY(occurred_at)) * 1440) AS next_event,\n",
    "                                      ROW_NUMBER() OVER () AS id\n",
    "                                    FROM yammer_events\n",
    "                                    WHERE event_type = 'engagement'\n",
    "                              ) intervals\n",
    "                              WHERE prev_event >= 10.0\n",
    "                                 OR next_event >= 10.0\n",
    "                                 OR prev_event IS NULL\n",
    "                                 OR next_event IS NULL\n",
    "                        ) bounds\n",
    "                        GROUP BY 1, 2\n",
    "            ) sessions\n",
    "            ON e.user_id = sessions.user_id\n",
    "            AND e.occurred_at >= sessions.session_start\n",
    "            AND e.occurred_at <= sessions.session_end\n",
    "            WHERE e.event_type = 'engagement'\n",
    "      ) events\n",
    "      GROUP BY 1, 2, 3\n",
    ") counts\n",
    "WHERE runs > 0\n",
    "GROUP BY 1\n",
    "ORDER BY 1\n",
    "\"\"\""
   ]
  },
  {
   "cell_type": "code",
   "execution_count": null,
   "metadata": {},
   "outputs": [],
   "source": [
    "runs = pandasql.sqldf(q, globals())"
   ]
  },
  {
   "cell_type": "code",
   "execution_count": null,
   "metadata": {},
   "outputs": [],
   "source": [
    "num_runs = runs['runs']\n",
    "num_sessions = runs['sessions']"
   ]
  },
  {
   "cell_type": "code",
   "execution_count": null,
   "metadata": {},
   "outputs": [],
   "source": [
    "fig3 = go.Figure()\n",
    "fig3.add_trace(go.Bar(x=num_runs, y=num_sessions, text=num_sessions, textposition='auto', name='runs per session'))\n",
    "fig3.update_layout(title='Number of Sessions with Runs', xaxis_title='Number of runs', yaxis_title='Number of sessions')\n",
    "pio.write_html(fig3, file='2021-06-01-Understanding-Search-Functionality-fig3.html', auto_open=True)"
   ]
  },
  {
   "cell_type": "markdown",
   "metadata": {},
   "source": [
    "### _3. Clickthroughs_\n",
    "If a user clicks many links in the search results, it's likely that she isn't having a great experience. However, the inverse is not necessarily true–clicking only one result does not imply a success. If the user clicks through one result, then refines their search, that's certainly not a great experience, so search frequently is probably a better way to understand that piece of the puzzle. Clickthroughs are, however, very useful in determining whether search rankings are good. If users frequently click low results or scroll to additional pages, then the ranking algorithm should probably be adjusted.\n",
    "\n",
    "### Clickthroughs in Search Runs"
   ]
  },
  {
   "cell_type": "code",
   "execution_count": null,
   "metadata": {},
   "outputs": [],
   "source": [
    "q = \"\"\"\n",
    "SELECT\n",
    "  clicks,\n",
    "  COUNT(*) AS sessions\n",
    "FROM (\n",
    "        SELECT\n",
    "          strftime('%Y-%m-%d %H:%M:%S', session_start) AS session_start,\n",
    "          session,\n",
    "          user_id,\n",
    "          COUNT(CASE WHEN event_name = 'search_autocomplete' THEN user_id ELSE NULL END) AS autocompletes,\n",
    "          COUNT(CASE WHEN event_name = 'search_run' THEN user_id ELSE NULL END) AS runs,\n",
    "          COUNT(CASE WHEN event_name LIKE 'search_click_result_%' THEN user_id ELSE NULL END) AS clicks\n",
    "        FROM (\n",
    "              SELECT\n",
    "                e.*,\n",
    "                session,\n",
    "                session_start\n",
    "              FROM yammer_events e\n",
    "              LEFT JOIN (\n",
    "                          SELECT\n",
    "                            user_id,\n",
    "                            session,\n",
    "                            MIN(occurred_at) AS session_start,\n",
    "                            MAX(occurred_at) AS session_end\n",
    "                          FROM (\n",
    "                                SELECT\n",
    "                                  intervals.*,\n",
    "                                  CASE WHEN prev_event >= 10.0 THEN id\n",
    "                                       WHEN prev_event IS NULL THEN id\n",
    "                                       ELSE LAG(id, 1) OVER (PARTITION BY user_id ORDER BY occurred_at)\n",
    "                                       END AS session\n",
    "                                FROM (\n",
    "                                      SELECT\n",
    "                                        user_id,\n",
    "                                        occurred_at,\n",
    "                                        event_type,\n",
    "                                        event_name,\n",
    "                                        ROUND((JULIANDAY(occurred_at) - JULIANDAY(LAG(occurred_at, 1) OVER (PARTITION BY user_id ORDER BY occurred_at))) * 1440) AS prev_event,\n",
    "                                        ROUND((JULIANDAY(LEAD(occurred_at, 1) OVER (PARTITION BY user_id ORDER BY occurred_at)) - JULIANDAY(occurred_at)) * 1440) AS next_event,\n",
    "                                        ROW_NUMBER() OVER () AS id\n",
    "                                      FROM yammer_events\n",
    "                                      WHERE event_type = 'engagement'\n",
    "                                ) intervals\n",
    "                                WHERE prev_event >= 10.0\n",
    "                                   OR next_event >= 10.0\n",
    "                                   OR prev_event IS NULL\n",
    "                                   OR next_event IS NULL\n",
    "                          ) bounds\n",
    "                          GROUP BY 1, 2\n",
    "              ) sessions\n",
    "              ON e.user_id = sessions.user_id\n",
    "              AND e.occurred_at >= sessions.session_start\n",
    "              AND e.occurred_at <= sessions.session_end\n",
    "              WHERE e.event_type = 'engagement'\n",
    "        ) events\n",
    "        GROUP BY 1, 2, 3\n",
    ") counts\n",
    "WHERE runs > 0\n",
    "GROUP BY 1\n",
    "ORDER BY 1\n",
    "\"\"\""
   ]
  },
  {
   "cell_type": "code",
   "execution_count": null,
   "metadata": {},
   "outputs": [],
   "source": [
    "clicks = pandasql.sqldf(q, globals())"
   ]
  },
  {
   "cell_type": "code",
   "execution_count": null,
   "metadata": {},
   "outputs": [],
   "source": [
    "num_clicks = clicks['clicks']\n",
    "num_sessions = clicks['sessions']"
   ]
  },
  {
   "cell_type": "code",
   "execution_count": null,
   "metadata": {},
   "outputs": [],
   "source": [
    "fig4 = go.Figure()\n",
    "fig4.add_trace(go.Bar(x=num_clicks, y=num_sessions, text=num_sessions, textposition='auto', name='num clicks per session'))\n",
    "fig4.update_layout(title='Clicks Per Session During Search Runs', xaxis_title='Clicks per session', yaxis_title='Number of sessions')\n",
    "pio.write_html(fig4, file='2021-06-01-Understanding-Search-Functionality-fig4.html', auto_open=True)"
   ]
  },
  {
   "cell_type": "markdown",
   "metadata": {},
   "source": [
    "### Average Clicks Per Search"
   ]
  },
  {
   "cell_type": "code",
   "execution_count": null,
   "metadata": {},
   "outputs": [],
   "source": [
    "q = \"\"\"\n",
    "SELECT\n",
    "  runs,\n",
    "  ROUND(AVG(clicks), 2) AS avg_clicks\n",
    "FROM (\n",
    "      SELECT\n",
    "        strftime('%Y-%m-%d %H:%M:%S', session_start) AS session_start,\n",
    "        session,\n",
    "        user_id,\n",
    "        COUNT(CASE WHEN event_name = 'search_autocomplete' THEN user_id ELSE NULL END) AS autocompletes,\n",
    "        COUNT(CASE WHEN event_name = 'search_run' THEN user_id ELSE NULL END) AS runs,\n",
    "        COUNT(CASE WHEN event_name LIKE 'search_click_result_%' THEN user_id ELSE NULL END) AS clicks\n",
    "      FROM (\n",
    "            SELECT\n",
    "              e.*,\n",
    "              session,\n",
    "              session_start\n",
    "            FROM yammer_events e\n",
    "            LEFT JOIN (\n",
    "                        SELECT\n",
    "                          user_id,\n",
    "                          session,\n",
    "                          MIN(occurred_at) AS session_start,\n",
    "                          MAX(occurred_at) AS session_end\n",
    "                        FROM (\n",
    "                              SELECT\n",
    "                                intervals.*,\n",
    "                                CASE WHEN prev_event >= 10.0 THEN id\n",
    "                                     WHEN prev_event IS NULL THEN id\n",
    "                                     ELSE LAG(id, 1) OVER (PARTITION BY user_id ORDER BY occurred_at)\n",
    "                                     END AS session\n",
    "                              FROM (\n",
    "                                    SELECT\n",
    "                                      user_id,\n",
    "                                      occurred_at,\n",
    "                                      event_name,\n",
    "                                      event_type,\n",
    "                                      ROUND((JULIANDAY(occurred_at) - JULIANDAY(LAG(occurred_at, 1) OVER (PARTITION BY user_id ORDER BY occurred_at))) * 1440) AS prev_event,\n",
    "                                      ROUND((JULIANDAY(LEAD(occurred_at, 1) OVER (PARTITION BY user_id ORDER BY occurred_at)) - JULIANDAY(occurred_at)) * 1440) AS next_event,\n",
    "                                      ROW_NUMBER() OVER () AS id\n",
    "                                    FROM yammer_events\n",
    "                                    WHERE event_type = 'engagement'\n",
    "                              ) intervals\n",
    "                              WHERE prev_event >= 10.0\n",
    "                                 OR next_event >= 10.0\n",
    "                                 OR prev_event IS NULL\n",
    "                                 OR next_event IS NULL\n",
    "                        ) bounds\n",
    "                        GROUP BY 1, 2\n",
    "            ) sessions\n",
    "            ON e.user_id = sessions.user_id\n",
    "            AND e.occurred_at >= sessions.session_start\n",
    "            AND e.occurred_at <= sessions.session_end\n",
    "            WHERE e.event_type = 'engagement'\n",
    "      ) events\n",
    "      GROUP BY 1, 2, 3\n",
    ") counts\n",
    "WHERE runs > 0\n",
    "GROUP BY 1\n",
    "ORDER BY 1\n",
    "\"\"\""
   ]
  },
  {
   "cell_type": "code",
   "execution_count": null,
   "metadata": {},
   "outputs": [],
   "source": [
    "avg_clicks = pandasql.sqldf(q, globals())"
   ]
  },
  {
   "cell_type": "code",
   "execution_count": null,
   "metadata": {},
   "outputs": [],
   "source": [
    "runs = avg_clicks['runs']\n",
    "avg_clicks = avg_clicks['avg_clicks']"
   ]
  },
  {
   "cell_type": "code",
   "execution_count": null,
   "metadata": {},
   "outputs": [],
   "source": [
    "fig5 = go.Figure()\n",
    "fig5.add_trace(go.Bar(x=runs, y=avg_clicks, text=avg_clicks, textposition='auto', name='avg clicks'))\n",
    "fig5.update_layout(title='Average Clicks Per Search', xaxis_title='Searches per session', yaxis_title='Average clicks per session')\n",
    "pio.write_html(fig5, file='2021-06-01-Understanding-Search-Functionality-fig5.html', auto_open=True)"
   ]
  },
  {
   "cell_type": "markdown",
   "metadata": {},
   "source": [
    "### Clicks by Search Result"
   ]
  },
  {
   "cell_type": "code",
   "execution_count": null,
   "metadata": {},
   "outputs": [],
   "source": [
    "q = \"\"\"\n",
    "SELECT \n",
    "  r.*\n",
    "FROM (\n",
    "      SELECT\n",
    "        CASE event_name\n",
    "          WHEN 'search_click_result_1' THEN 1\n",
    "          WHEN 'search_click_result_2' THEN 2\n",
    "          WHEN 'search_click_result_3' THEN 3\n",
    "          WHEN 'search_click_result_4' THEN 4\n",
    "          WHEN 'search_click_result_5' THEN 5\n",
    "          WHEN 'search_click_result_6' THEN 6\n",
    "          WHEN 'search_click_result_7' THEN 7\n",
    "          WHEN 'search_click_result_8' THEN 8\n",
    "          WHEN 'search_click_result_9' THEN 9\n",
    "          WHEN 'search_click_result_10' THEN 10\n",
    "          END AS result,\n",
    "        COUNT(user_id) AS clicks\n",
    "      FROM yammer_events\n",
    "      GROUP BY 1\n",
    ") r\n",
    "WHERE r.result IS NOT NULL\n",
    "\"\"\""
   ]
  },
  {
   "cell_type": "code",
   "execution_count": null,
   "metadata": {},
   "outputs": [],
   "source": [
    "results = pandasql.sqldf(q, globals())"
   ]
  },
  {
   "cell_type": "code",
   "execution_count": null,
   "metadata": {},
   "outputs": [],
   "source": [
    "result_num = results['result']\n",
    "num_clicks = results['clicks']"
   ]
  },
  {
   "cell_type": "code",
   "execution_count": null,
   "metadata": {},
   "outputs": [],
   "source": [
    "fig6 = go.Figure()\n",
    "fig6.add_trace(go.Bar(x=result_num, y=num_clicks, text=num_clicks, textposition='auto', name='Clicks per result'))\n",
    "fig6.update_layout(title='Clicks by Result Order', xaxis_title='Search result order', yaxis_title='Number of clicks')\n",
    "pio.write_html(fig6, file='2021-06-01-Understanding-Search-Functionality-fig6.html', auto_open=True)"
   ]
  },
  {
   "cell_type": "markdown",
   "metadata": {},
   "source": [
    "### Search Retention"
   ]
  },
  {
   "cell_type": "code",
   "execution_count": null,
   "metadata": {},
   "outputs": [],
   "source": [
    "q = \"\"\"\n",
    "WITH intervals AS (\n",
    "SELECT\n",
    "  user_id,\n",
    "  occurred_at,\n",
    "  event_name,\n",
    "  event_type,\n",
    "  ROUND((JULIANDAY(occurred_at) - JULIANDAY(LAG(occurred_at, 1) OVER (PARTITION BY user_id ORDER BY occurred_at))) * 1440) AS prev_event,\n",
    "  ROUND((JULIANDAY(LEAD(occurred_at, 1) OVER (PARTITION BY user_id ORDER BY occurred_at)) - JULIANDAY(occurred_at)) * 1440) AS next_event,\n",
    "  ROW_NUMBER() OVER () AS id\n",
    "FROM yammer_events\n",
    "WHERE event_type = 'engagement'\n",
    "),\n",
    "bounds AS (\n",
    "SELECT\n",
    "  user_id,\n",
    "  occurred_at,\n",
    "  CASE WHEN prev_event >= 10.0 THEN id\n",
    "       WHEN prev_event IS NULL THEN id\n",
    "       ELSE LAG(id, 1) OVER (PARTITION BY user_id ORDER BY occurred_at)\n",
    "      END AS session\n",
    "FROM intervals\n",
    "WHERE prev_event >= 10.0\n",
    "  OR next_event >= 10.0\n",
    "  OR prev_event IS NULL\n",
    "  OR next_event IS NULL\n",
    "),\n",
    "sessions AS (\n",
    "SELECT\n",
    "  user_id,\n",
    "  session,\n",
    "  MIN(occurred_at) AS session_start,\n",
    "  MAX(occurred_at) AS session_end\n",
    "FROM bounds\n",
    "GROUP BY 1, 2\n",
    "),\n",
    "first AS (\n",
    "SELECT\n",
    "  user_id,\n",
    "  MIN(occurred_at) AS first_run\n",
    "FROM yammer_events\n",
    "WHERE event_name = 'search_run'\n",
    "GROUP BY 1\n",
    "),\n",
    "events AS (\n",
    "SELECT\n",
    "  e.*,\n",
    "  sessions.session,\n",
    "  sessions.session_start,\n",
    "  first.first_run\n",
    "FROM yammer_events e\n",
    "JOIN first\n",
    "ON e.user_id = first.user_id\n",
    "LEFT JOIN sessions\n",
    "ON e.user_id = sessions.user_id\n",
    "AND e.occurred_at >= sessions.session_start\n",
    "AND e.occurred_at <= sessions.session_end\n",
    "AND sessions.session_start <= datetime(first.first_run, '1 MONTH')\n",
    "WHERE e.event_type = 'engagement'\n",
    "),\n",
    "counts AS (\n",
    "SELECT\n",
    "  strftime('%Y-%m-%d %H:%M:%S', session_start) AS session_start,\n",
    "  session,\n",
    "  user_id,\n",
    "  first_run,\n",
    "  COUNT(CASE WHEN event_name = 'search_run' THEN user_id ELSE NULL END) AS runs\n",
    "FROM events\n",
    "GROUP BY 1, 2, 3, 4\n",
    "),\n",
    "runs AS (\n",
    "SELECT\n",
    "  user_id,\n",
    "  COUNT(*) AS searches\n",
    "FROM counts\n",
    "WHERE runs > 0\n",
    "GROUP BY 1\n",
    "ORDER BY 1\n",
    ")\n",
    "SELECT\n",
    "  searches,\n",
    "  COUNT(*) AS users\n",
    "FROM runs\n",
    "GROUP BY 1\n",
    "ORDER BY 1\n",
    "\"\"\""
   ]
  },
  {
   "cell_type": "code",
   "execution_count": null,
   "metadata": {},
   "outputs": [],
   "source": [
    "run_retention = pandasql.sqldf(q, globals())"
   ]
  },
  {
   "cell_type": "code",
   "execution_count": null,
   "metadata": {},
   "outputs": [],
   "source": [
    "searches = run_retention['searches']\n",
    "users = run_retention['users']"
   ]
  },
  {
   "cell_type": "code",
   "execution_count": null,
   "metadata": {},
   "outputs": [],
   "source": [
    "fig7 = go.Figure()\n",
    "fig7.add_trace(go.Bar(x=searches, y=users, text=users, textposition='auto', name='sessions with search runs'))\n",
    "fig7.update_layout(title=\"Sessions with Search Runs Month After Users' First Search\", xaxis_title='Number of sessions with search runs', yaxis_title='Number of users')\n",
    "pio.write_html(fig7, file='2021-06-01-Understanding-Search-Functionality-fig7.html', auto_open=True)"
   ]
  },
  {
   "cell_type": "markdown",
   "metadata": {},
   "source": [
    "### _4. Autocomplete Clickthroughs_"
   ]
  },
  {
   "cell_type": "code",
   "execution_count": null,
   "metadata": {},
   "outputs": [],
   "source": [
    "q = \"\"\"\n",
    "WITH intervals AS (\n",
    "SELECT\n",
    "  user_id,\n",
    "  occurred_at,\n",
    "  event_type,\n",
    "  event_name,\n",
    "  ROUND((JULIANDAY(occurred_at) - JULIANDAY(LAG(occurred_at, 1) OVER (PARTITION BY user_id ORDER BY occurred_at))) * 1440) AS prev_event,\n",
    "  ROUND((JULIANDAY(LEAD(occurred_at, 1) OVER (PARTITION BY user_id ORDER BY occurred_at)) - JULIANDAY(occurred_at)) * 1440) AS next_event,\n",
    "  ROW_NUMBER() OVER () AS id\n",
    "FROM yammer_events\n",
    "WHERE event_type = 'engagement'\n",
    "),\n",
    "bounds AS (\n",
    "SELECT\n",
    "  user_id,\n",
    "  occurred_at,\n",
    "  CASE WHEN prev_event >= 10.0 THEN id\n",
    "       WHEN next_event IS NULL THEN id\n",
    "       ELSE LAG(id, 1) OVER (PARTITION BY user_id ORDER BY occurred_at)\n",
    "       END AS session\n",
    "FROM intervals\n",
    "WHERE prev_event >= 10.0\n",
    "   OR next_event >= 10.0\n",
    "   OR prev_event IS NULL\n",
    "   OR next_event IS NULL\n",
    "),\n",
    "sessions AS (\n",
    "SELECT\n",
    "  user_id,\n",
    "  session,\n",
    "  MIN(occurred_at) AS session_start,\n",
    "  MAX(occurred_at) AS session_end\n",
    "FROM bounds\n",
    "GROUP BY 1, 2\n",
    "),\n",
    "first AS (\n",
    "SELECT\n",
    "  user_id,\n",
    "  MIN(occurred_at) AS first_autocomplete\n",
    "FROM yammer_events\n",
    "WHERE event_name = 'search_autocomplete'\n",
    "GROUP BY 1\n",
    "),\n",
    "events AS (\n",
    "SELECT\n",
    "  e.*,\n",
    "  sessions.session,\n",
    "  sessions.session_start,\n",
    "  first.first_autocomplete\n",
    "FROM yammer_events e\n",
    "JOIN first\n",
    "ON e.user_id = first.user_id\n",
    "LEFT JOIN sessions\n",
    "ON e.user_id = sessions.user_id\n",
    "AND e.occurred_at >= sessions.session_start\n",
    "AND e.occurred_at <= sessions.session_end\n",
    "AND sessions.session_start <= datetime(first.first_autocomplete, '1 MONTH')\n",
    "WHERE e.event_type = 'engagement'\n",
    "),\n",
    "counts AS (\n",
    "SELECT\n",
    "  strftime('%Y-%m-%d %H:%M:%S', session_start) AS session_start,\n",
    "  session,\n",
    "  user_id,\n",
    "  first_autocomplete,\n",
    "  COUNT(CASE WHEN event_name = 'search_autocomplete' THEN user_id ELSE NULL END) AS autocompletes\n",
    "FROM events\n",
    "GROUP BY 1, 2, 3, 4\n",
    "),\n",
    "searches AS (\n",
    "SELECT\n",
    "  user_id,\n",
    "  COUNT(*) AS searches\n",
    "FROM counts\n",
    "WHERE autocompletes > 0\n",
    "GROUP BY 1\n",
    ")\n",
    "SELECT\n",
    "  searches,\n",
    "  COUNT(*) AS users\n",
    "FROM searches\n",
    "GROUP BY 1\n",
    "ORDER BY 1\n",
    "\"\"\""
   ]
  },
  {
   "cell_type": "code",
   "execution_count": null,
   "metadata": {},
   "outputs": [],
   "source": [
    "autocompletes = pandasql.sqldf(q, globals())"
   ]
  },
  {
   "cell_type": "code",
   "execution_count": null,
   "metadata": {},
   "outputs": [],
   "source": [
    "searches = autocompletes['searches']\n",
    "users = autocompletes['users']"
   ]
  },
  {
   "cell_type": "code",
   "execution_count": null,
   "metadata": {},
   "outputs": [],
   "source": [
    "fig8 = go.Figure()\n",
    "fig8.add_trace(go.Bar(x=searches, y=users, text=users, textposition='auto', name='sessions with autocompletes'))\n",
    "fig8.update_layout(title=\"Autocomplete Sessions Month After Users' First Search\", xaxis_title='Number of sessions with autocompletes', yaxis_title='Number of users')\n",
    "pio.write_html(fig8, file='2021-06-01-Understanding-Search-Functionality-fig8.html', auto_open=True)"
   ]
  }
 ],
 "metadata": {
  "kernelspec": {
   "display_name": "Python 3",
   "language": "python",
   "name": "python3"
  },
  "language_info": {
   "codemirror_mode": {
    "name": "ipython",
    "version": 3
   },
   "file_extension": ".py",
   "mimetype": "text/x-python",
   "name": "python",
   "nbconvert_exporter": "python",
   "pygments_lexer": "ipython3",
   "version": "3.8.5"
  }
 },
 "nbformat": 4,
 "nbformat_minor": 4
}
