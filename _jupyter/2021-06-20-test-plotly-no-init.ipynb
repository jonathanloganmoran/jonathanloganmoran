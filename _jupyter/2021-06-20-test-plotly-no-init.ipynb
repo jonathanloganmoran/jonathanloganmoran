{
 "cells": [
  {
   "cell_type": "markdown",
   "metadata": {},
   "source": [
    "# Testing Plotly\n",
    "This notebook reproduces a Liquid syntax error when downloading `.ipynb` and converting notebooks with Plotly charts to `.md` for a Jekyll website."
   ]
  },
  {
   "cell_type": "markdown",
   "metadata": {},
   "source": [
    "## Import dependencies"
   ]
  },
  {
   "cell_type": "code",
   "execution_count": 1,
   "metadata": {},
   "outputs": [],
   "source": [
    "import plotly.express as px\n",
    "import plotly.graph_objects as go\n",
    "#from plotly.offline import init_notebook_mode, iplot\n",
    "import plotly.io as pio"
   ]
  },
  {
   "cell_type": "markdown",
   "metadata": {},
   "source": [
    "## Plotly `.ipynb` configuration"
   ]
  },
  {
   "cell_type": "code",
   "execution_count": 2,
   "metadata": {},
   "outputs": [],
   "source": [
    "# redundant as I already have jupyterlab plotly-extension installed\n",
    "# init_notebook_mode(connected=False)"
   ]
  },
  {
   "cell_type": "code",
   "execution_count": 3,
   "metadata": {},
   "outputs": [],
   "source": [
    "# load plotly.js bundle into notebook\n",
    "# pio.renderers.default = 'jupyterlab'"
   ]
  },
  {
   "cell_type": "markdown",
   "metadata": {},
   "source": [
    "## Bar Chart with Plotly Express"
   ]
  },
  {
   "cell_type": "code",
   "execution_count": 4,
   "metadata": {},
   "outputs": [],
   "source": [
    "#data_canada = px.data.gapminder().query(\"country == 'Canada'\")\n",
    "data_sweden = px.data.gapminder().query(\"country == 'Sweden'\")"
   ]
  },
  {
   "cell_type": "code",
   "execution_count": 5,
   "metadata": {},
   "outputs": [],
   "source": [
    "fig = go.Figure()\n",
    "#fig.add_trace(go.Bar(x=data_canada['year'], y=data_canada['pop']))\n",
    "fig.add_trace(go.Bar(x=data_sweden['year'], y=data_sweden['pop']))\n",
    "#fig.update_layout(title=\"Canada's Population Per Year\", xaxis_title='Year', yaxis_title='Population')\n",
    "fig.update_layout(title=\"Sweden's Population Per Year\", xaxis_title='Year', yaxis_title='Population')\n",
    "pio.write_html(fig, file='../_includes/2021-06-20-testing-fig.html')"
   ]
  },
  {
   "cell_type": "code",
   "execution_count": null,
   "metadata": {},
   "outputs": [],
   "source": []
  }
 ],
 "metadata": {
  "kernelspec": {
   "display_name": "Python 3",
   "language": "python",
   "name": "python3"
  },
  "language_info": {
   "codemirror_mode": {
    "name": "ipython",
    "version": 3
   },
   "file_extension": ".py",
   "mimetype": "text/x-python",
   "name": "python",
   "nbconvert_exporter": "python",
   "pygments_lexer": "ipython3",
   "version": "3.8.5"
  }
 },
 "nbformat": 4,
 "nbformat_minor": 4
}
